{
  "nbformat": 4,
  "nbformat_minor": 0,
  "metadata": {
    "colab": {
      "name": "PANDAS.ipynb",
      "provenance": [],
      "mount_file_id": "1lO9V9SzRZgkO5SpKvMvNcE6YwNL1mpAW",
      "authorship_tag": "ABX9TyN9K+Yeb16IXfmm36MS1CDH",
      "include_colab_link": true
    },
    "kernelspec": {
      "name": "python3",
      "display_name": "Python 3"
    },
    "language_info": {
      "name": "python"
    }
  },
  "cells": [
    {
      "cell_type": "markdown",
      "metadata": {
        "id": "view-in-github",
        "colab_type": "text"
      },
      "source": [
        "<a href=\"https://colab.research.google.com/github/pedroh6s/Introdu-o-ao-PANDAS/blob/main/PANDAS.ipynb\" target=\"_parent\"><img src=\"https://colab.research.google.com/assets/colab-badge.svg\" alt=\"Open In Colab\"/></a>"
      ]
    },
    {
      "cell_type": "code",
      "metadata": {
        "id": "lSWHx8pjXYJ5"
      },
      "source": [
        "import pandas as pd\n",
        "#dar o apelido pd é boa prática"
      ],
      "execution_count": null,
      "outputs": []
    },
    {
      "cell_type": "code",
      "metadata": {
        "id": "KsG78sdgYvrz"
      },
      "source": [
        "df = pd.read_csv(\"/content/drive/MyDrive/FONTES DE DADOS/ocorrencia_2010_2020 - ocorrencia_2010_2020.csv\",sep=\";\")\n",
        "df\n",
        "#chamar o dataframe de df é boa prática\n",
        "#o separador padrão do pandas é a vírgula\n",
        "#ao chamar o dataframe ele por padrão exibe as 5 primeiros e também os 5 últimos resultados\n",
        "#a primeira coluna é uma coluna de rótulos para uma localização do usuário, mas não equivalem ao índice do dataframe"
      ],
      "execution_count": null,
      "outputs": []
    },
    {
      "cell_type": "code",
      "metadata": {
        "id": "2xvLZpDG0JO0"
      },
      "source": [
        "df.head()\n",
        "df.tail()\n",
        "#head exibe os primeiros resultados, tail os últimos\n",
        "#head e tail por padrão trazem 5 linhas, mas é possível definir quantas linhas você desejar"
      ],
      "execution_count": null,
      "outputs": []
    },
    {
      "cell_type": "code",
      "metadata": {
        "id": "seqhshGv5mg9"
      },
      "source": [
        "df.dtypes"
      ],
      "execution_count": null,
      "outputs": []
    },
    {
      "cell_type": "markdown",
      "metadata": {
        "id": "0uWnh6S-Fo6X"
      },
      "source": [
        "Exibe o tipo de dados de cada coluna se tivermos apenas um dado em toda a coluna com tipo de dados diferente dos demais, a resposta para aquela coluna será objeto. \n",
        "\n"
      ]
    },
    {
      "cell_type": "code",
      "metadata": {
        "id": "hNwb-nHn6g_M"
      },
      "source": [
        "#df.ocorrencia_dia.dt.month\n",
        "#dt.month trás os valores de data naquela coluna, mas se e somente se o tipo de dados da coluna for data\n",
        "#caso contrário dá erro"
      ],
      "execution_count": null,
      "outputs": []
    },
    {
      "cell_type": "code",
      "metadata": {
        "id": "36D13RXr7T0R"
      },
      "source": [
        "df = pd.read_csv(\"/content/drive/MyDrive/FONTES DE DADOS/ocorrencia_2010_2020 - ocorrencia_2010_2020.csv\",sep=\";\",parse_dates=['ocorrencia_dia'])\n",
        "df\n",
        "#o comando parse_date transforma as colunas desejadas em datas."
      ],
      "execution_count": null,
      "outputs": []
    },
    {
      "cell_type": "code",
      "metadata": {
        "id": "7VNse9cW7s8k"
      },
      "source": [
        "df.dtypes\n"
      ],
      "execution_count": null,
      "outputs": []
    },
    {
      "cell_type": "markdown",
      "metadata": {
        "id": "6gSo6FT2FfZ8"
      },
      "source": [
        "Quando reexibimos o dataframe percebemos a modificação no campo transformado."
      ]
    },
    {
      "cell_type": "code",
      "metadata": {
        "id": "fCSnHYHu7tGh"
      },
      "source": [
        "df.ocorrencia_dia.dt.month"
      ],
      "execution_count": null,
      "outputs": []
    },
    {
      "cell_type": "markdown",
      "metadata": {
        "id": "txLSsA2MFaM_"
      },
      "source": [
        "E agora é possível usar o comando dt.month e aí temos acesso aos meses de cada registro nessa coluna."
      ]
    },
    {
      "cell_type": "code",
      "metadata": {
        "id": "VoGgwblP8ClS"
      },
      "source": [
        "df = pd.read_csv(\"/content/drive/MyDrive/FONTES DE DADOS/ocorrencia_2010_2020 - ocorrencia_2010_2020.csv\",sep=\";\",parse_dates=['ocorrencia_dia'], dayfirst=True)\n",
        "df"
      ],
      "execution_count": null,
      "outputs": []
    },
    {
      "cell_type": "markdown",
      "metadata": {
        "id": "7T5OxdtWEuwo"
      },
      "source": [
        "O comando parse_date transforma as colunas desejadas em datas.\n",
        "\n",
        "A inversão de datas só funciona para dias até 12 acima desse dia o pandas não inverte porque ele já sabe que não existe mês 13 em diante.\n",
        "\n",
        "Então vai ficar meio bagunçado no dataframe, mas é importante ter consciência disso.\n",
        "\n",
        "Também é preciso prestar atenção no data que aparece no dataframe antes do primeiro parse de datas.\n",
        "\n",
        "Portanto é uma boa prática antes de fazer qualquer conversão no seu dataframe observar bastante os campos para saber o que esperar após a conversão para avaliar se ela foi realizada corretamente e permitir a correção de possíveis erros.\n",
        "\n",
        "Um bom macete seria antes de mais nada pedir .head(10) e .tail(10), assim temos um volume um pouco maior de dados para facilitar nossa compreensão do dataframe e dos valores esperados após as conversões, isso evita erros e retrabalho.\n",
        "\n",
        "Se o volume de dados for muito grande, podemos e devemos aumentar o tamanho da nossa amostragem. Para a casa das centenas. Mas não existe regra, depende da sensibilidade e senso crítico do analista.\n"
      ]
    },
    {
      "cell_type": "code",
      "metadata": {
        "id": "8cColOOM8CyW"
      },
      "source": [
        "df.ocorrencia_dia.dt.month"
      ],
      "execution_count": null,
      "outputs": []
    },
    {
      "cell_type": "markdown",
      "metadata": {
        "id": "Mga7S3f8FRp8"
      },
      "source": [
        "Agora verificamos que o comando month retorna os valores corretos."
      ]
    },
    {
      "cell_type": "code",
      "metadata": {
        "colab": {
          "base_uri": "https://localhost:8080/"
        },
        "id": "5cl36np_C7xs",
        "outputId": "f6882253-c7ef-4fad-cf9a-7157d8241b1a"
      },
      "source": [
        "df.loc[5751, 'codigo_ocorrencia2']"
      ],
      "execution_count": null,
      "outputs": [
        {
          "output_type": "execute_result",
          "data": {
            "text/plain": [
              "79844"
            ]
          },
          "metadata": {},
          "execution_count": 37
        }
      ]
    },
    {
      "cell_type": "markdown",
      "metadata": {
        "id": "ORcEcwJXIATo"
      },
      "source": [
        "Dentro da função loc usados como coordenadas o rótulo de linhas e o nome da coluna.\n",
        "\n",
        "df.loc[rótulo da linha, nome da coluna]\n",
        "\n",
        "df.loc[número, 'string'] Se a coluna for string é claro\n",
        "\n",
        "O rótulo de coluna é um parâmetro opcional e quando não informado o pandas retorna toda a linha informada, com todas as colunas definidas no dataframe. Como podemos ver abaixo:\n"
      ]
    },
    {
      "cell_type": "code",
      "metadata": {
        "colab": {
          "base_uri": "https://localhost:8080/"
        },
        "id": "xg9oPPkrL87q",
        "outputId": "d97bc0aa-cebf-4e3a-b7b9-61666ddf4401"
      },
      "source": [
        "df.loc[5751]"
      ],
      "execution_count": null,
      "outputs": [
        {
          "output_type": "execute_result",
          "data": {
            "text/plain": [
              "codigo_ocorrencia                         79844\n",
              "codigo_ocorrencia2                        79844\n",
              "ocorrencia_classificacao              INCIDENTE\n",
              "ocorrencia_cidade                RIO DE JANEIRO\n",
              "ocorrencia_uf                                RJ\n",
              "ocorrencia_aerodromo                       SBJR\n",
              "ocorrencia_dia              2020-12-31 00:00:00\n",
              "ocorrencia_hora                        13:24:00\n",
              "total_recomendacoes                           0\n",
              "Name: 5751, dtype: object"
            ]
          },
          "metadata": {},
          "execution_count": 44
        }
      ]
    },
    {
      "cell_type": "code",
      "metadata": {
        "id": "s0WbjOy7IWeM"
      },
      "source": [
        "df.loc[[5, 50, 100],]"
      ],
      "execution_count": null,
      "outputs": []
    },
    {
      "cell_type": "markdown",
      "metadata": {
        "id": "jz9mB774LV5-"
      },
      "source": [
        "Também é possível definir múltiplas linhas\n",
        "\n",
        "Para isso basta usar uma lista contendo múltiplos rótulos de linhas\n",
        "\n",
        "df.loc[[lista com rótulos de linhas]]\n",
        "\n",
        "df.loc[[x, y, z]]\n",
        "\n",
        "Como o eixo X é opcional, podemos informá-lo ou não. "
      ]
    },
    {
      "cell_type": "code",
      "metadata": {
        "id": "LZKCy1sCLGBI"
      },
      "source": [
        "df.loc[[5, 50, 100], 'codigo_ocorrencia2']"
      ],
      "execution_count": null,
      "outputs": []
    },
    {
      "cell_type": "markdown",
      "metadata": {
        "id": "1qOnzVUhMebZ"
      },
      "source": [
        "Também podemos definir um intervalo de linhas a verificar, como se fosse um intervalo do excel, onde informamos o valor usamos representando o início do intervalo, dois pontos, seguida do valor representando o final do intervalo.\n",
        "\n",
        "df.loc[[início:fim]]"
      ]
    },
    {
      "cell_type": "code",
      "metadata": {
        "id": "GKXTLq2sLGGc"
      },
      "source": [
        "df.loc[1:25]"
      ],
      "execution_count": null,
      "outputs": []
    },
    {
      "cell_type": "markdown",
      "metadata": {
        "id": "NcScj_wUM5BW"
      },
      "source": [
        "Mais uma vez é possível filtrar as colunas de interesse ou não.\n",
        "\n",
        "É possível a qualquer momento informar múltiplas colunas, para isso basta informar o rótulo de cada uma delas.\n",
        "\n",
        "df.loc[[X, Y], [nome_coluna1, nome_coluna2]"
      ]
    },
    {
      "cell_type": "code",
      "metadata": {
        "id": "wq_I6j7kLGL3"
      },
      "source": [
        "df.loc[[1,5], ['codigo_ocorrencia', 'codigo_ocorrencia']]"
      ],
      "execution_count": null,
      "outputs": []
    },
    {
      "cell_type": "markdown",
      "metadata": {
        "id": "gFf29RmHOmSl"
      },
      "source": [
        "Quando filtramos intervalos e definimos as colunas, não precisamos colocar o intervalo entre colchetes."
      ]
    },
    {
      "cell_type": "code",
      "metadata": {
        "id": "RQeEh3SROXej"
      },
      "source": [
        "df.loc[1:2, 'codigo_ocorrencia']"
      ],
      "execution_count": null,
      "outputs": []
    },
    {
      "cell_type": "markdown",
      "metadata": {
        "id": "DyJnoiwJPFWW"
      },
      "source": [
        "Como o eixo Y é obrigatório e vem primeiro, caso você não informe um rótulo de linhas, o primeiro valor informado, que será o de coluna, será interpretado como a linha.\n",
        "Como as linhas não possuem aqueles rótulos, o python retornará uma mensagem de erro. "
      ]
    },
    {
      "cell_type": "code",
      "metadata": {
        "id": "dBa1H8OWOXs9"
      },
      "source": [
        ""
      ],
      "execution_count": null,
      "outputs": []
    },
    {
      "cell_type": "markdown",
      "metadata": {
        "id": "X3XxEh33PZbV"
      },
      "source": [
        "A função is unique verifica linha a linha se cada valor nessa coluna nunca se repete.\n",
        "\n",
        "Caso exista qualquer repetição ele retorna False.\n",
        "\n",
        "Quantos todos os valores são únicos a função retorna True.\n",
        "\n",
        "df.**nome_da_coluna**.is_unique"
      ]
    },
    {
      "cell_type": "code",
      "metadata": {
        "id": "josfOhkYOX3G"
      },
      "source": [
        "df.ocorrencia_classificacao.is_unique"
      ],
      "execution_count": null,
      "outputs": []
    },
    {
      "cell_type": "code",
      "metadata": {
        "id": "yYcWyhlYOYHH"
      },
      "source": [
        "df.codigo_ocorrencia.is_unique"
      ],
      "execution_count": null,
      "outputs": []
    },
    {
      "cell_type": "markdown",
      "metadata": {
        "id": "1Tnk9UNHQWo_"
      },
      "source": [
        "É possível atribuir uma coluna do dataframe como a nova referência para rótulos, ou seja, usar como uma espécie de chave primária.\n",
        "\n",
        "df.set_index(**coluna_escolhida**)\n",
        "\n",
        "Após esse comando temos como output uma visualação dos dados organizados da maneira desejada.\n",
        "\n",
        "Mas fazendo apenas essa operação a coluna não fica setada como a coluna padrão para rótulos. Como podemos verificar se usarmos um comando head, por exemplo.\n",
        "\n",
        "Para indicar que você deseja que essa mudança seja aplicada ao dataframe como um todo, é necessário utilizar outro parâmetro dentro da função set_index, o parâmetro **inplace** recebendo True.\n",
        "\n",
        "df.set_index(**coluna_escolhida**,**inplace=True**)\n",
        "\n",
        "Quando usamos esse comando o output é a alteração no dataframe solicitado, mas não existe visualização prévia de dados.\n",
        "\n",
        "Para verificar a mudança é necessário pedir algum tipo de visualização do dataframe."
      ]
    },
    {
      "cell_type": "code",
      "metadata": {
        "id": "Dlstp3lEQNp_"
      },
      "source": [
        "df.set_index('codigo_ocorrencia')"
      ],
      "execution_count": null,
      "outputs": []
    },
    {
      "cell_type": "code",
      "metadata": {
        "id": "AFa72JHeQNwW"
      },
      "source": [
        "df.head()"
      ],
      "execution_count": null,
      "outputs": []
    },
    {
      "cell_type": "code",
      "metadata": {
        "id": "u0ywDMXkQN3c"
      },
      "source": [
        "df.set_index('codigo_ocorrencia', inplace=True)"
      ],
      "execution_count": null,
      "outputs": []
    },
    {
      "cell_type": "code",
      "metadata": {
        "colab": {
          "base_uri": "https://localhost:8080/",
          "height": 274
        },
        "id": "irJh64F9QOBL",
        "outputId": "7fe40a94-ef40-429d-f376-5c74b1e4d87e"
      },
      "source": [
        "df.head()"
      ],
      "execution_count": null,
      "outputs": [
        {
          "output_type": "execute_result",
          "data": {
            "text/html": [
              "<div>\n",
              "<style scoped>\n",
              "    .dataframe tbody tr th:only-of-type {\n",
              "        vertical-align: middle;\n",
              "    }\n",
              "\n",
              "    .dataframe tbody tr th {\n",
              "        vertical-align: top;\n",
              "    }\n",
              "\n",
              "    .dataframe thead th {\n",
              "        text-align: right;\n",
              "    }\n",
              "</style>\n",
              "<table border=\"1\" class=\"dataframe\">\n",
              "  <thead>\n",
              "    <tr style=\"text-align: right;\">\n",
              "      <th></th>\n",
              "      <th>codigo_ocorrencia2</th>\n",
              "      <th>ocorrencia_classificacao</th>\n",
              "      <th>ocorrencia_cidade</th>\n",
              "      <th>ocorrencia_uf</th>\n",
              "      <th>ocorrencia_aerodromo</th>\n",
              "      <th>ocorrencia_dia</th>\n",
              "      <th>ocorrencia_hora</th>\n",
              "      <th>total_recomendacoes</th>\n",
              "    </tr>\n",
              "    <tr>\n",
              "      <th>codigo_ocorrencia</th>\n",
              "      <th></th>\n",
              "      <th></th>\n",
              "      <th></th>\n",
              "      <th></th>\n",
              "      <th></th>\n",
              "      <th></th>\n",
              "      <th></th>\n",
              "      <th></th>\n",
              "    </tr>\n",
              "  </thead>\n",
              "  <tbody>\n",
              "    <tr>\n",
              "      <th>40211</th>\n",
              "      <td>40211</td>\n",
              "      <td>INCIDENTE</td>\n",
              "      <td>RIO DE JANEIRO</td>\n",
              "      <td>RJ</td>\n",
              "      <td>****</td>\n",
              "      <td>2010-01-03</td>\n",
              "      <td>12:00:00</td>\n",
              "      <td>0</td>\n",
              "    </tr>\n",
              "    <tr>\n",
              "      <th>40349</th>\n",
              "      <td>40349</td>\n",
              "      <td>INCIDENTE</td>\n",
              "      <td>BELÉM</td>\n",
              "      <td>PA</td>\n",
              "      <td>SBBE</td>\n",
              "      <td>2010-01-03</td>\n",
              "      <td>11:05:00</td>\n",
              "      <td>0</td>\n",
              "    </tr>\n",
              "    <tr>\n",
              "      <th>40351</th>\n",
              "      <td>40351</td>\n",
              "      <td>INCIDENTE</td>\n",
              "      <td>RIO DE JANEIRO</td>\n",
              "      <td>RJ</td>\n",
              "      <td>SBRJ</td>\n",
              "      <td>2010-01-03</td>\n",
              "      <td>03:00:00</td>\n",
              "      <td>0</td>\n",
              "    </tr>\n",
              "    <tr>\n",
              "      <th>39527</th>\n",
              "      <td>39527</td>\n",
              "      <td>ACIDENTE</td>\n",
              "      <td>LUCAS DO RIO VERDE</td>\n",
              "      <td>MT</td>\n",
              "      <td>****</td>\n",
              "      <td>2010-01-04</td>\n",
              "      <td>17:30:00</td>\n",
              "      <td>0</td>\n",
              "    </tr>\n",
              "    <tr>\n",
              "      <th>40324</th>\n",
              "      <td>40324</td>\n",
              "      <td>INCIDENTE</td>\n",
              "      <td>PELOTAS</td>\n",
              "      <td>RS</td>\n",
              "      <td>SBPK</td>\n",
              "      <td>2010-01-05</td>\n",
              "      <td>19:25:00</td>\n",
              "      <td>0</td>\n",
              "    </tr>\n",
              "  </tbody>\n",
              "</table>\n",
              "</div>"
            ],
            "text/plain": [
              "                   codigo_ocorrencia2  ... total_recomendacoes\n",
              "codigo_ocorrencia                      ...                    \n",
              "40211                           40211  ...                   0\n",
              "40349                           40349  ...                   0\n",
              "40351                           40351  ...                   0\n",
              "39527                           39527  ...                   0\n",
              "40324                           40324  ...                   0\n",
              "\n",
              "[5 rows x 8 columns]"
            ]
          },
          "metadata": {},
          "execution_count": 76
        }
      ]
    },
    {
      "cell_type": "markdown",
      "metadata": {
        "id": "2CCcC7-ZSFnv"
      },
      "source": [
        "Como agora nosso dataframe sofreu essa alteração, quando usarmos um valor existente na coluna definida como rótulo (chave primária), agora podemos usar os valores únicos dessa coluna como nosso parâmetro de linha (eixo Y) e utilizá-lo para fazer nossas procuras e torná-las mais eficientes. "
      ]
    },
    {
      "cell_type": "code",
      "metadata": {
        "id": "NIiasl7cR8YX"
      },
      "source": [
        "df.loc[40324]"
      ],
      "execution_count": null,
      "outputs": []
    },
    {
      "cell_type": "markdown",
      "metadata": {
        "id": "1dch8PdDS4Am"
      },
      "source": [
        "**OBSERVAÇÃO MEGA MASTER IMPORTANTE**\n",
        "\n",
        "É possível definir uma coluna com valores repetidos como rótulo de dados para um dataframe.\n",
        "\n",
        "O python processa, não gera erro.\n",
        "\n",
        "Porém não é uma boa prática e fortemente desaconselhado, pois existem formas mais eficientes e acertadas de realizar esse tipo de operação de filtro."
      ]
    },
    {
      "cell_type": "markdown",
      "metadata": {
        "id": "OMKtmNLHTTkP"
      },
      "source": [
        "A qualquer momento podemos remover o rótulo de dados atual do nosso dataframe, basta usar a função reset_index.\n",
        "\n",
        "df.**reset_index(inplace=True)**\n",
        "\n",
        "Assim como no **set_index** aqui também não teremos uma visualização no output e para conferirmos é necessário usar um **.head()**"
      ]
    },
    {
      "cell_type": "code",
      "metadata": {
        "id": "kvOsf5lyR8ec"
      },
      "source": [
        "df.reset_index(inplace=True)"
      ],
      "execution_count": null,
      "outputs": []
    },
    {
      "cell_type": "code",
      "metadata": {
        "id": "ODNoZ3TpTSf5"
      },
      "source": [
        "df.head()"
      ],
      "execution_count": null,
      "outputs": []
    },
    {
      "cell_type": "markdown",
      "metadata": {
        "id": "ibckLi1OURxM"
      },
      "source": [
        "Podemos não só abandonar a coluna de referência anterior, como também removê-la ao mesmo tempo, usando o mesmo comando.\n",
        "\n",
        "Para isso precisamos usar o parâmetro opcional **drop**\n",
        "\n",
        "df.**reset_index(drop=True, inplace=True)**\n",
        "\n",
        "Como de costume, não temos uma visualização no output, então precisamos usar algum comando de visualização para conferir nossas alterações, como o comando **.head()**"
      ]
    },
    {
      "cell_type": "code",
      "metadata": {
        "id": "wQ5b_OcOTSsT"
      },
      "source": [
        "df.reset_index(drop=True, inplace=True)"
      ],
      "execution_count": null,
      "outputs": []
    },
    {
      "cell_type": "code",
      "metadata": {
        "id": "KwxRCFj5T8dS"
      },
      "source": [
        "df.head()"
      ],
      "execution_count": null,
      "outputs": []
    },
    {
      "cell_type": "code",
      "metadata": {
        "id": "qKn1PkcFUtV5"
      },
      "source": [
        ""
      ],
      "execution_count": null,
      "outputs": []
    },
    {
      "cell_type": "code",
      "metadata": {
        "id": "otyvDe9UUtda"
      },
      "source": [
        ""
      ],
      "execution_count": null,
      "outputs": []
    },
    {
      "cell_type": "code",
      "metadata": {
        "id": "spEWej44UtkL"
      },
      "source": [
        ""
      ],
      "execution_count": null,
      "outputs": []
    }
  ]
}